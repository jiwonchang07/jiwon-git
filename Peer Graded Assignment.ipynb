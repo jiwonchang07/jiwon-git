{
 "cells": [
  {
   "cell_type": "markdown",
   "id": "dd9a562d-1c46-4556-8655-0f9426ec183a",
   "metadata": {},
   "source": [
    "# My Jupyter Notebook on Skills Network Labs"
   ]
  },
  {
   "cell_type": "markdown",
   "id": "f424194a-0bf0-474a-ab0c-53b4b95ea2ab",
   "metadata": {},
   "source": [
    "**Jiwon Chang** <br>\n",
    "Current occupation: Human Resources Analyst\n",
    "Desired occupation: Data Scientist/Data Analyst"
   ]
  },
  {
   "cell_type": "markdown",
   "id": "3b454d11-4597-40db-9fc4-5dad89fd95ea",
   "metadata": {},
   "source": [
    "*I am interested in data science because the process of extracting meanings from raw data is so fascinating. I would like to apply my skills to maximize profitability of business industries.*"
   ]
  },
  {
   "cell_type": "markdown",
   "id": "87b54d1a-d68a-4a4a-a3dc-e375e26e194c",
   "metadata": {},
   "source": [
    "### Greet viewers "
   ]
  },
  {
   "cell_type": "code",
   "execution_count": 4,
   "id": "916aaf6a-8875-41bc-9318-6754132fa25b",
   "metadata": {},
   "outputs": [
    {
     "name": "stdout",
     "output_type": "stream",
     "text": [
      "Welcome to Jiwon's very first Git!\n"
     ]
    }
   ],
   "source": [
    "print (\"Welcome to Jiwon's very first Git!\")"
   ]
  },
  {
   "cell_type": "markdown",
   "id": "bff0cea8-8233-4705-98c8-93c13f01044e",
   "metadata": {},
   "source": [
    "* bullet1\n",
    "* bullet2\n",
    "\n",
    "| Table | Table |\n",
    "| ----- | ----- |\n",
    "| hello | tests |"
   ]
  },
  {
   "cell_type": "code",
   "execution_count": null,
   "id": "f3689db4-eae9-4361-8f71-b23234fa8eae",
   "metadata": {},
   "outputs": [],
   "source": []
  }
 ],
 "metadata": {
  "kernelspec": {
   "display_name": "Python",
   "language": "python",
   "name": "conda-env-python-py"
  },
  "language_info": {
   "codemirror_mode": {
    "name": "ipython",
    "version": 3
   },
   "file_extension": ".py",
   "mimetype": "text/x-python",
   "name": "python",
   "nbconvert_exporter": "python",
   "pygments_lexer": "ipython3",
   "version": "3.7.12"
  }
 },
 "nbformat": 4,
 "nbformat_minor": 5
}
